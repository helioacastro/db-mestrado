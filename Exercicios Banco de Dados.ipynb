{
 "cells": [
  {
   "cell_type": "markdown",
   "metadata": {},
   "source": [
    "1. Liste os nomes dos funcionários que tenham entre 10 e 12 anos de serviço\n",
    "(inclusive).\n",
    "\n",
    ">$R1 \\leftarrow \\sigma_{anos\\_servico >= 10 AND anos\\_servico <= 12 }(FUNCIONARIO)$\n",
    ">\n",
    ">$R2 \\leftarrow \\Pi_{nome\\_func}(R1)$\n",
    "\n",
    "\n",
    ">```SQL\n",
    "> SELECT nome_func FROM funcionario WHERE anos_servico >=10 AND anos_servico <= 12\n",
    ">\n",
    "\n",
    "2. Liste o nome, a matrícula e o salário de todas as pessoas cujo salário não esteja\n",
    "entre R$ 1.000,00 e R$ 3.000,00.\n",
    "\n",
    "$R1 \\leftarrow \\\n",
    "\n",
    "\n",
    "1. Liste os nomes dos funcionários com exatamente 5, 8 ou 13 anos de serviço.\n",
    "1. Liste a matrícula, nome e salário de todas as pessoas.\n",
    "1. Liste o código, o nome e as datas de todos os projetos técnicos.\n",
    "1. Liste o nome do departamento, a matrícula, o nome e o salário dos funcionários.\n",
    "1. Liste os nomes dos gerentes de divisão e o número e o nome da respectiva divisão.\n",
    "1. Liste matrícula, nome, anos de serviço de todos os gerentes de departamentos que\n",
    "recebem salários maiores que R$ 2.000,00 ou que possuam matrículas maiores\n",
    "que 30, e que tenham mais de 6 anos de serviço.\n",
    "\n",
    "1. Liste o nome do departamento, matrícula, nome e salário de todos os gerentes.\n",
    "1. Liste a matrícula, nome de todos os supervisores e os nomes de seus respectivos\n",
    "subordinados.\n",
    "1. Liste o nome dos funcionários, o nome de seu departamento e o nome de seus\n",
    "respectivos supervisores.\n",
    "1. Liste o número e o nome das divisões, o código e o nome dos respectivos\n",
    "departamentos subordinados a esta.\n",
    "1. Liste as matrículas, os nomes e os departamentos de todos os empregados que\n",
    "gerenciam algum departamento.\n",
    "1. Liste a matrícula, nome, cargo, anos de serviço e salário de todas as pessoas com\n",
    "4 ou mais anos de serviço ou que ganhem salário superior a R$ 500,00.\n"
   ]
  }
 ],
 "metadata": {
  "kernelspec": {
   "display_name": "Python 3.12.2 64-bit (microsoft store)",
   "language": "python",
   "name": "python3"
  },
  "language_info": {
   "name": "python",
   "version": "3.12.2"
  },
  "orig_nbformat": 4,
  "vscode": {
   "interpreter": {
    "hash": "7ae5ae4fd88e2bd38bf8e29a2e5dfd21f9bc40e4d52fc97fa5cc46517c6bfe74"
   }
  }
 },
 "nbformat": 4,
 "nbformat_minor": 2
}
